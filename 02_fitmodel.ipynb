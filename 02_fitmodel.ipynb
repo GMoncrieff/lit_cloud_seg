{
 "cells": [
  {
   "cell_type": "code",
   "execution_count": 5,
   "metadata": {},
   "outputs": [
    {
     "name": "stderr",
     "output_type": "stream",
     "text": [
      "Global seed set to 1234\n"
     ]
    }
   ],
   "source": [
    "import yaml\n",
    "from pytorch_lightning import Trainer, seed_everything\n",
    "from pytorch_lightning.callbacks import ModelCheckpoint\n",
    "from pytorch_lightning.loggers import WandbLogger\n",
    "\n",
    "import segmentation_models_pytorch as smp\n",
    "\n",
    "from src.xarray_module import XarrayDataModule\n",
    "from src.litsegmodel import LitSegModel\n",
    "\n",
    "#params are stored in config.yaml\n",
    "with open('config.yaml') as f:\n",
    "    config = yaml.load(f, Loader=yaml.FullLoader)\n",
    "    \n",
    "seed_everything(1234)\n",
    "\n",
    "ENCODER_NAME=config['ENCODER_NAME'] \n",
    "N_BAND=config['N_BAND']                  \n",
    "N_CLASS=config['N_CLASS']"
   ]
  },
  {
   "attachments": {},
   "cell_type": "markdown",
   "metadata": {},
   "source": [
    "## fit model"
   ]
  },
  {
   "cell_type": "code",
   "execution_count": 3,
   "metadata": {},
   "outputs": [
    {
     "name": "stderr",
     "output_type": "stream",
     "text": [
      "/opt/conda/envs/fsdl-text-recognizer-2022/lib/python3.7/site-packages/pytorch_lightning/loggers/wandb.py:397: UserWarning: There is a wandb run already in progress and newly created instances of `WandbLogger` will reuse this run. If this is not desired, call `wandb.finish()` before instantiating `WandbLogger`.\n",
      "  \"There is a wandb run already in progress and newly created instances of `WandbLogger` will reuse\"\n",
      "GPU available: True (cuda), used: True\n",
      "TPU available: False, using: 0 TPU cores\n",
      "IPU available: False, using: 0 IPUs\n",
      "HPU available: False, using: 0 HPUs\n",
      "/opt/conda/envs/fsdl-text-recognizer-2022/lib/python3.7/site-packages/xarray/backends/plugins.py:68: RuntimeWarning: Engine 'cfgrib' loading failed:\n",
      "Cannot find the ecCodes library\n",
      "  warnings.warn(f\"Engine {name!r} loading failed:\\n{ex}\", RuntimeWarning)\n",
      "LOCAL_RANK: 0 - CUDA_VISIBLE_DEVICES: [0]\n",
      "\n",
      "  | Name    | Type                   | Params\n",
      "---------------------------------------------------\n",
      "0 | model   | Unet                   | 24.5 M\n",
      "1 | jaccard | MulticlassJaccardIndex | 0     \n",
      "2 | confmat | BinaryConfusionMatrix  | 0     \n",
      "3 | loss_fn | SoftCrossEntropyLoss   | 0     \n",
      "---------------------------------------------------\n",
      "24.5 M    Trainable params\n",
      "0         Non-trainable params\n",
      "24.5 M    Total params\n",
      "97.834    Total estimated model params size (MB)\n"
     ]
    },
    {
     "data": {
      "application/vnd.jupyter.widget-view+json": {
       "model_id": "44348fb6d1ad4db0a4c96f182e3f5a55",
       "version_major": 2,
       "version_minor": 0
      },
      "text/plain": [
       "Sanity Checking: 0it [00:00, ?it/s]"
      ]
     },
     "metadata": {},
     "output_type": "display_data"
    },
    {
     "data": {
      "application/vnd.jupyter.widget-view+json": {
       "model_id": "028a9584b74840eaa914a15ffe80eaf7",
       "version_major": 2,
       "version_minor": 0
      },
      "text/plain": [
       "Training: 0it [00:00, ?it/s]"
      ]
     },
     "metadata": {},
     "output_type": "display_data"
    },
    {
     "data": {
      "application/vnd.jupyter.widget-view+json": {
       "model_id": "953a9a7a4bc14cffa3ece0d5974348c3",
       "version_major": 2,
       "version_minor": 0
      },
      "text/plain": [
       "Validation: 0it [00:00, ?it/s]"
      ]
     },
     "metadata": {},
     "output_type": "display_data"
    },
    {
     "data": {
      "application/vnd.jupyter.widget-view+json": {
       "model_id": "d81defda6b4a42aa8461df0eb99cfa8c",
       "version_major": 2,
       "version_minor": 0
      },
      "text/plain": [
       "Validation: 0it [00:00, ?it/s]"
      ]
     },
     "metadata": {},
     "output_type": "display_data"
    },
    {
     "data": {
      "application/vnd.jupyter.widget-view+json": {
       "model_id": "066a1e876da14afd88c02143f91702f2",
       "version_major": 2,
       "version_minor": 0
      },
      "text/plain": [
       "Validation: 0it [00:00, ?it/s]"
      ]
     },
     "metadata": {},
     "output_type": "display_data"
    },
    {
     "data": {
      "application/vnd.jupyter.widget-view+json": {
       "model_id": "1886a865a8304d30a164a260ce6defee",
       "version_major": 2,
       "version_minor": 0
      },
      "text/plain": [
       "Validation: 0it [00:00, ?it/s]"
      ]
     },
     "metadata": {},
     "output_type": "display_data"
    }
   ],
   "source": [
    "#base model\n",
    "umodel = smp.Unet(\n",
    "    encoder_name=ENCODER_NAME, \n",
    "    in_channels=N_BAND,                  \n",
    "    classes=N_CLASS,                      \n",
    ")\n",
    "#datamodule for xarrays\n",
    "xmod = XarrayDataModule()\n",
    "#lightning model\n",
    "model = LitSegModel(umodel)\n",
    "\n",
    "checkpoint_callback = ModelCheckpoint(dirpath=\"checkpoints/\",  monitor=\"valid_loss\",save_top_k=2)\n",
    "wandb_logger = WandbLogger(project=\"overstory\",name=\"run_0\",log_model = False)\n",
    "\n",
    "trainer = Trainer(max_time=\"00:02:00:00\", \n",
    "                  max_epochs=500,\n",
    "                  accelerator=\"gpu\",\n",
    "                  logger=wandb_logger,\n",
    "                  callbacks=[checkpoint_callback])\n",
    "\n",
    "trainer.fit(model, datamodule=xmod)\n",
    "\n",
    "check_best = checkpoint_callback.best_model_path"
   ]
  },
  {
   "attachments": {},
   "cell_type": "markdown",
   "metadata": {},
   "source": [
    "## load best model and test"
   ]
  },
  {
   "cell_type": "code",
   "execution_count": 12,
   "metadata": {},
   "outputs": [
    {
     "name": "stderr",
     "output_type": "stream",
     "text": [
      "GPU available: False, used: False\n",
      "TPU available: False, using: 0 TPU cores\n",
      "IPU available: False, using: 0 IPUs\n",
      "HPU available: False, using: 0 HPUs\n"
     ]
    }
   ],
   "source": [
    "\n",
    "umodel = smp.Unet(\n",
    "    encoder_name=ENCODER_NAME, \n",
    "    in_channels=N_BAND,                  \n",
    "    classes=N_CLASS,                      \n",
    ")\n",
    "\n",
    "model = LitSegModel(umodel)\n",
    "xmod = XarrayDataModule()\n",
    "trainer = Trainer()\n",
    "\n",
    "checkpoint = '/home/glennmoncrieff/overstory/checkpoints/epoch=4-step=2155.ckpt'\n",
    "model = LitSegModel.load_from_checkpoint(checkpoint,model=umodel)"
   ]
  },
  {
   "cell_type": "code",
   "execution_count": 13,
   "metadata": {},
   "outputs": [
    {
     "data": {
      "application/vnd.jupyter.widget-view+json": {
       "model_id": "d4af13cf95794e629d79bb531bc7bd8c",
       "version_major": 2,
       "version_minor": 0
      },
      "text/plain": [
       "Testing: 0it [00:00, ?it/s]"
      ]
     },
     "metadata": {},
     "output_type": "display_data"
    },
    {
     "name": "stdout",
     "output_type": "stream",
     "text": [
      "────────────────────────────────────────────────────────────────────────────────────────────────────────────────────────\n",
      "       Test metric             DataLoader 0\n",
      "────────────────────────────────────────────────────────────────────────────────────────────────────────────────────────\n",
      "      test_jaccard          0.5796831846237183\n",
      "        test_loss           0.45853060483932495\n",
      "────────────────────────────────────────────────────────────────────────────────────────────────────────────────────────\n"
     ]
    },
    {
     "data": {
      "text/plain": [
       "[{'test_loss': 0.45853060483932495, 'test_jaccard': 0.5796831846237183}]"
      ]
     },
     "execution_count": 13,
     "metadata": {},
     "output_type": "execute_result"
    }
   ],
   "source": [
    "trainer.test(model, datamodule=xmod)"
   ]
  }
 ],
 "metadata": {
  "kernelspec": {
   "display_name": "fsdl-text-recognizer-2022",
   "language": "python",
   "name": "python3"
  },
  "language_info": {
   "codemirror_mode": {
    "name": "ipython",
    "version": 3
   },
   "file_extension": ".py",
   "mimetype": "text/x-python",
   "name": "python",
   "nbconvert_exporter": "python",
   "pygments_lexer": "ipython3",
   "version": "3.7.13 (default, Mar 29 2022, 02:18:16) \n[GCC 7.5.0]"
  },
  "orig_nbformat": 4,
  "vscode": {
   "interpreter": {
    "hash": "0f056848cf5d2396a4970b625f23716aa539c2ff5334414c1b5d98d7daae66f6"
   }
  }
 },
 "nbformat": 4,
 "nbformat_minor": 2
}
